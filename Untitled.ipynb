{
 "cells": [
  {
   "cell_type": "code",
   "execution_count": 6,
   "id": "14936bcb-2160-43d1-a61b-97c889e1794f",
   "metadata": {},
   "outputs": [],
   "source": [
    "#!/usr/bin/env python\n",
    "# coding: utf-8\n",
    "\n",
    "# ## Desafio Aula 3:\n",
    "\n",
    "# ### 1. Modularização para organizar no DVC\n",
    "# ### 2. Uso do AutoML para automatizar o emprego dos modelos de Machine Learning utilizando  - Pycaret\n",
    "# ### 3. Criação de uma Pipeline de ML no DVC\n",
    "\n",
    "# ## Conceitos-Chave\n",
    "# \n",
    "# ### Reprodutibilidade: garantir que os experimentos sejam executáveis a qualquer momento, com os mesmos dados e parâmetros.\n",
    "# \n",
    "# ### Versionamento de dados: aplicar o mesmo controle de versão que temos no código (Git) também aos dados.\n",
    "# \n",
    "# ### Pipelines: criação de etapas encadeadas com dependências rastreáveis.\n",
    "\n",
    "# ## Desafio Aula 2 (última aula):\n",
    "\n",
    "# ### Atuando como consultor para uma empresa, a mesma lhe forneceu um código legado de um projeto que não foi para frente com o time de analytics deles.\n",
    "# ### A empresa é da área de óleo e gás e trabalha mapeando áreas com potencial para explorar.\n",
    "# ### O projeto deles trata de tentar aumentar a granularidade(resolução) de um conjunto de dados inicial para um conjunto de dados final com \"melhor resolução\" que permita um mapeamento melhor.\n",
    "# ### A empresa trabalha com um software comercial que produz resultados razoáveis, mas que é uma caixa preta e o time de negócios da empresa agora resolveu criar suas próprias soluções para ter mais controle e não precisar pagar mais a licença desse software e automatizar os processos.\n",
    "# ### A empresa lhe forneceu os dados de treino, e os dados de inferência. Ambos em estrutura numpy array com coordenadas X,Y,Z,Propriedade(target).\n",
    "# ### A empresa também lhe forneceu os dados do resultado gerado por eles com o software comercial, com o mesmo tipo de estrutura dos dados de treino e de inferencia, para que você compare com a solução criada por você.\n",
    "# ### Cabe a você realizar experimentos novos que melhorem (em relação à solução do software comercial).\n",
    "# ### Repare que a solução atual que já consta no código legado claramente apresenta artefatos estranhos, explore isso.\n",
    "\n"
   ]
  },
  {
   "cell_type": "markdown",
   "id": "16f9adf4-2a18-4824-a605-16c1fd152bce",
   "metadata": {},
   "source": [
    "# ### Modulo 1. loading.py ➞ carrega os dados"
   ]
  },
  {
   "cell_type": "code",
   "execution_count": 1,
   "id": "0bd7d7a5-e59e-4445-ba66-6f7d8bbd48cb",
   "metadata": {},
   "outputs": [
    {
     "ename": "ModuleNotFoundError",
     "evalue": "No module named 'aula3_modulo_mlops'",
     "output_type": "error",
     "traceback": [
      "\u001b[0;31m---------------------------------------------------------------------------\u001b[0m",
      "\u001b[0;31mModuleNotFoundError\u001b[0m                       Traceback (most recent call last)",
      "Cell \u001b[0;32mIn[1], line 4\u001b[0m\n\u001b[1;32m      2\u001b[0m \u001b[38;5;28;01mimport\u001b[39;00m\u001b[38;5;250m \u001b[39m\u001b[38;5;21;01mmatplotlib\u001b[39;00m\u001b[38;5;21;01m.\u001b[39;00m\u001b[38;5;21;01mpyplot\u001b[39;00m\u001b[38;5;250m \u001b[39m\u001b[38;5;28;01mas\u001b[39;00m\u001b[38;5;250m \u001b[39m\u001b[38;5;21;01mplt\u001b[39;00m\n\u001b[1;32m      3\u001b[0m \u001b[38;5;28;01mfrom\u001b[39;00m\u001b[38;5;250m \u001b[39m\u001b[38;5;21;01mmatplotlib\u001b[39;00m\u001b[38;5;21;01m.\u001b[39;00m\u001b[38;5;21;01mcolors\u001b[39;00m\u001b[38;5;250m \u001b[39m\u001b[38;5;28;01mimport\u001b[39;00m TwoSlopeNorm\n\u001b[0;32m----> 4\u001b[0m \u001b[38;5;28;01mimport\u001b[39;00m\u001b[38;5;250m \u001b[39m\u001b[38;5;21;01maula3_modulo_mlops\u001b[39;00m\u001b[38;5;250m \u001b[39m\u001b[38;5;28;01mas\u001b[39;00m\u001b[38;5;250m \u001b[39m\u001b[38;5;21;01msts\u001b[39;00m\n\u001b[1;32m      5\u001b[0m \u001b[38;5;28;01mimport\u001b[39;00m\u001b[38;5;250m \u001b[39m\u001b[38;5;21;01mmlflow\u001b[39;00m\n\u001b[1;32m      8\u001b[0m \u001b[38;5;66;03m#Dados Treino\u001b[39;00m\n",
      "\u001b[0;31mModuleNotFoundError\u001b[0m: No module named 'aula3_modulo_mlops'"
     ]
    }
   ],
   "source": [
    "import numpy as np\n",
    "import matplotlib.pyplot as plt\n",
    "from matplotlib.colors import TwoSlopeNorm\n",
    "import aula3_modulo_mlops as sts\n",
    "import mlflow\n",
    "\n",
    "\n",
    "#Dados Treino\n",
    "sim_slice = np.load(\"sim_slice.npy\")\n",
    "sim_slice\n",
    "\n",
    "#Dados para Inferência\n",
    "seismic_slice = np.load(\"seismic_slice.npy\")\n",
    "seismic_slice \n",
    "\n",
    "#Dados de Referência para a modelagem(Software Comnercial)\n",
    "seismic_slice_GT = np.load(\"seismic_slice_GT.npy\")\n",
    "seismic_slice_GT"
   ]
  },
  {
   "cell_type": "markdown",
   "id": "21327d7c-dc44-4f77-ba95-6ea420fc0f72",
   "metadata": {},
   "source": [
    "# ### Modulo 2- Tratamento dos dados (limpeza do sim_slice)"
   ]
  },
  {
   "cell_type": "code",
   "execution_count": null,
   "id": "8b074b4b-f79c-487c-85c6-36b8ba12cc23",
   "metadata": {},
   "outputs": [],
   "source": [
    "sim_data = sts.simulation_data_cleaning(simulation_data = sim_slice, value_to_clean = -99.0)\n",
    "\n",
    "sim_data = sts.simulation_nan_treatment(simulation = sim_slice, value = 0, method = 'replace')\n",
    "\n",
    "sim_data, seis_cube = sts.depth_signal_checking(simulation_data=sim_slice, seismic_data=seismic_slice)"
   ]
  },
  {
   "cell_type": "markdown",
   "id": "b0335e22-1bcb-4a1f-b072-0f8e113152e4",
   "metadata": {},
   "source": [
    "# ### Modulo 3- treinamento do modelo ExtraTrees"
   ]
  },
  {
   "cell_type": "code",
   "execution_count": null,
   "id": "3b98e0b1-1e34-4703-82c9-3a089959a467",
   "metadata": {},
   "outputs": [],
   "source": [
    "sim_estimado, y, nrms_teste, r2_teste, mape_teste, dict_params, ET = sts.ML_model_evaluation(dados_simulacao=sim_slice, proporcao_treino=0.75)"
   ]
  },
  {
   "cell_type": "markdown",
   "id": "8fcf719d-1e12-4a5c-9313-fbb52cd13fb5",
   "metadata": {},
   "source": [
    "# ### Modulo 4. inference.py ➞ aplica inferência no seismic_slice"
   ]
  },
  {
   "cell_type": "code",
   "execution_count": null,
   "id": "0ce15d2d-abea-47f9-ae71-37bb756d0eef",
   "metadata": {},
   "outputs": [],
   "source": [
    "seis_prop_vector, seis_estimated = sts.transfer_to_seismic_scale(dados_sismicos=seismic_slice)"
   ]
  },
  {
   "cell_type": "markdown",
   "id": "8ba4f388-a0b4-4a7a-8c05-3f0387b7e2b2",
   "metadata": {},
   "source": [
    "# ### Modulo 5. evaluation.py ➞ compara com seismic_slice_GT"
   ]
  },
  {
   "cell_type": "code",
   "execution_count": null,
   "id": "6c7647ce-d526-452d-be97-38927d2b4e90",
   "metadata": {},
   "outputs": [],
   "source": [
    "### Calculo dos Residuos: Dados de Referencia - Dados da Inferência ML\n",
    "seismic_slice_residual_final = sts.residual_calculator(seismic_GT = seismic_slice_GT, seismic_original = seismic_slice)"
   ]
  },
  {
   "cell_type": "code",
   "execution_count": null,
   "id": "7c25983d-65ac-4859-855d-ee75fc70d5f7",
   "metadata": {},
   "outputs": [],
   "source": [
    "### Plot dos histogramas com as distribuições dos dados originais, dados de inferencia e dados de referencia(Ground Truth)\n",
    "sts.plot_simulation_distribution(sim_slice, bins=35)\n",
    "\n",
    "sts.plot_simulation_distribution(seis_estimated, bins=35)\n",
    "\n",
    "sts.plot_simulation_distribution(seismic_slice_GT, bins=35)\n",
    "\n",
    "sts.plot_simulation_distribution(seismic_slice_residual_final, bins=35)\n",
    "\n",
    "\n",
    "# In[17]:\n",
    "\n",
    "\n",
    "### Plot das imagens dos dados originais, dados de inferencia e dados de referencia(Ground Truth)\n",
    "sts.plot_seismic_slice(sim_slice, title=\"Slice a profundidade ~5000m dos dados de treino\")\n",
    "\n",
    "sts.plot_seismic_slice(seismic_slice_GT, title=\"Slice a profundidade ~5000m do Resultado-Referência(software comercial)\")\n",
    "\n",
    "sts.plot_seismic_slice(seis_estimated, title=\"Slice a profundidade ~5000m da Inferência ML\")\n",
    "\n",
    "sts.plot_seismic_slice(seismic_slice_residual_final, title = \"Slice a profundidade ~5000m - Residuo da Inferência\")\n",
    "\n",
    "\n",
    "# ### MLFLOW Tracking\n",
    "\n",
    "# In[21]:\n",
    "\n",
    "\n",
    "tuple_1 = [\"nrms_teste\", \"r2_teste\", \"mape_teste\"]\n",
    "   \n",
    "metrics_tuple = [64.27, 0.58, 71.8]\n",
    "\n",
    "dict_metrics = dict(zip(tuple_1, metrics_tuple))\n",
    "dict_metrics\n",
    "\n",
    "\n",
    "# In[22]:\n",
    "\n",
    "\n",
    "mlflow.set_registry_uri(\"http://127.0.0.1:5000\")\n",
    "\n",
    "\n",
    "# In[23]:\n",
    "\n",
    "\n",
    "mlflow.set_experiment(\"Aula2 Experimento 3\")\n",
    "\n",
    "\n",
    "# In[24]:\n",
    "\n",
    "\n",
    "with mlflow.start_run(run_name=\"Aula2 MLOps Exp 3\"):\n",
    "    mlflow.log_params(dict_params)\n",
    "    mlflow.log_metrics(dict_metrics)\n",
    "    mlflow.sklearn.log_model(ET, \"Base Line Model ExtraTrees\")\n",
    "\n",
    "\n",
    "# In[25]:\n",
    "\n",
    "\n",
    "# with mlflow.start_run(run_name=\"SimToSeis_ET_Model\"):\n",
    "    \n",
    "#     mlflow.log_param(\"train_ratio\", proporcao_treino)\n",
    "\n",
    "#     modelo, X, y, nrms, r2, mape = treinar_modelo(sim_data, proporcao_treino)\n",
    "\n",
    "#     mlflow.log_metric(\"NRMS\", nrms)\n",
    "#     mlflow.log_metric(\"R2\", r2)\n",
    "#     mlflow.log_metric(\"MAPE\", mape)\n",
    "\n",
    "#     mlflow.sklearn.log_model(modelo, \"modelo_extra_trees\")\n",
    "\n",
    "#     seis_estimado = inferir_propriedade(modelo, seismic_slice)\n",
    "#     np.save(\"seis_estimado.npy\", seis_estimado)\n",
    "#     mlflow.log_artifact(\"seis_estimado.npy\")\n",
    "\n",
    "#     residuos = calcular_residuos(seismic_slice_GT, seis_estimado)\n",
    "#     np.save(\"residuos.npy\", residuos)\n",
    "#     mlflow.log_artifact(\"residuos.npy\")\n",
    "\n",
    "#     print(f\"NRMS: {nrms:.2f}%, R2: {r2:.2f}, MAPE: {mape:.2f}\")\n",
    "#     print(\"Run registrada com MLflow!\")\n",
    "\n",
    "#     plotar_histograma(seis_estimado, titulo=\"Inferência Sísmica - Histograma\")\n",
    "#     plotar_histograma(residuos, titulo=\"Resíduos - Histograma\")\n",
    "\n",
    "\n",
    "# ### FIM"
   ]
  }
 ],
 "metadata": {
  "kernelspec": {
   "display_name": "Python (AMD)",
   "language": "python",
   "name": "amd"
  },
  "language_info": {
   "codemirror_mode": {
    "name": "ipython",
    "version": 3
   },
   "file_extension": ".py",
   "mimetype": "text/x-python",
   "name": "python",
   "nbconvert_exporter": "python",
   "pygments_lexer": "ipython3",
   "version": "3.10.16"
  }
 },
 "nbformat": 4,
 "nbformat_minor": 5
}
